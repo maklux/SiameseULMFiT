{
 "cells": [
  {
   "cell_type": "markdown",
   "metadata": {},
   "source": [
    "# ULMFiT + Siamese Network for Sentence Vectors\n",
    "## Part Three: Classifying\n",
    "\n",
    "This notebook will use the German Language Model, created in the previous one, to predict categories based on Office FAQ entries. The model will be used as a sentence encoder for a Siamese Network that builds sentence vectors that are feed into a classifier network."
   ]
  },
  {
   "cell_type": "code",
   "execution_count": 1,
   "metadata": {},
   "outputs": [],
   "source": [
    "# Needed to load fastai library\n",
    "import sys\n",
    "sys.path.append(\"/data/home/makayser/notebooks/fastai/\") # go to parent dir"
   ]
  },
  {
   "cell_type": "code",
   "execution_count": 2,
   "metadata": {},
   "outputs": [],
   "source": [
    "import fastai\n",
    "# from fastai.lm_rnn import *\n",
    "from fastai.text import *\n",
    "import html\n",
    "\n",
    "#temp fix\n",
    "#from old.fastai import lm_rnn as old_lm_rnn\n",
    "\n",
    "import json\n",
    "import html\n",
    "import re\n",
    "import pickle\n",
    "from collections import Counter\n",
    "import random\n",
    "import pandas as pd\n",
    "import numpy as np\n",
    "from pathlib import Path\n",
    "import sklearn\n",
    "from sklearn import model_selection\n",
    "from functools import partial\n",
    "from collections import Counter, defaultdict\n",
    "import random\n",
    "\n",
    "import numpy as np\n",
    "import torch\n",
    "import torch.nn as nn\n",
    "import torch.utils \n",
    "import torch.optim as optim\n",
    "import torch.optim.lr_scheduler as lr_scheduler\n",
    "from torch.utils.data import dataset, dataloader\n",
    "import torch.optim as optim\n",
    "import torch.nn.functional as F\n",
    "\n",
    "import time\n",
    "import math\n",
    "import sys\n",
    "# import data"
   ]
  },
  {
   "cell_type": "code",
   "execution_count": 3,
   "metadata": {},
   "outputs": [],
   "source": [
    "data_dir = '/data/home/makayser/qa_local/'\n",
    "token_files = data_dir + 'token/'"
   ]
  },
  {
   "cell_type": "code",
   "execution_count": 27,
   "metadata": {},
   "outputs": [],
   "source": [
    "torch.cuda.empty_cache()"
   ]
  },
  {
   "cell_type": "markdown",
   "metadata": {},
   "source": [
    "## Create a new dataloader to create sentence pairs"
   ]
  },
  {
   "cell_type": "code",
   "execution_count": 28,
   "metadata": {},
   "outputs": [],
   "source": [
    "class SiameseDataLoader():\n",
    "    def __init__(self, sentence_pairs, pad_val, batch_size=32):\n",
    "        self.sentence_pairs = sentence_pairs\n",
    "        self.batch_size = batch_size\n",
    "        self.index = 0\n",
    "        self.pad_val = pad_val\n",
    "     \n",
    "    def shuffle(self):\n",
    "        def srtfn(x):\n",
    "            return x[:, -1] + random.randint(-5, 5)\n",
    "        \n",
    "        order = np.argsort(srtfn(self.sentence_pairs))\n",
    "        self.sentence_pairs = self.sentence_pairs[order]\n",
    "        \n",
    "    def __iter__(self):\n",
    "        return self\n",
    "    \n",
    "    def fill_tensor(self, sentences, max_len):\n",
    "        data = np.zeros((max_len, len(sentences)), dtype=np.long)\n",
    "        data.fill(self.pad_val)\n",
    "        \n",
    "        for i, s in enumerate(sentences): \n",
    "            start_idx = max_len - len(s)\n",
    "            for j, p in enumerate(s):\n",
    "                data[:,i][start_idx+j] = p\n",
    "            \n",
    "        return torch.LongTensor([data.tolist()]).cuda()\n",
    "     \n",
    "    def batch(self):\n",
    "        return self.index//self.batch_size\n",
    "    \n",
    "    def __len__(self):\n",
    "        return len(self.sentence_pairs)//self.batch_size\n",
    "    \n",
    "    def __next__(self):\n",
    "        #how many examples to ananlyise for this round\n",
    "        num = min(self.batch_size, len(self.sentence_pairs) - self.index)\n",
    "        \n",
    "        if num < 1:\n",
    "            raise StopIteration  # signals \"the end\"\n",
    "            \n",
    "        #collect the sentences\n",
    "        max_len_a = 0\n",
    "        max_len_b = 0\n",
    "        first = []\n",
    "        second = []\n",
    "        labels = torch.LongTensor(num)\n",
    "        \n",
    "        for i in range(num):\n",
    "            a, b, l, _ = self.sentence_pairs[self.index + i]\n",
    "            \n",
    "            if len(a) > max_len_a:\n",
    "                max_len_a = len(a)\n",
    "            \n",
    "            if len(b) > max_len_b:\n",
    "                max_len_b = len(b)\n",
    "            \n",
    "            first.append(a)\n",
    "            second.append(b)\n",
    "            labels[i] = l \n",
    "            \n",
    "        self.index += num\n",
    "        \n",
    "        first = self.fill_tensor(first, max_len_a)\n",
    "        second = self.fill_tensor(second, max_len_b)\n",
    "        return (first.cuda(),\n",
    "                (first != self.pad_val).cuda(),\n",
    "                second.cuda(),\n",
    "                (second != self.pad_val).cuda(),\n",
    "                labels.cuda()\n",
    "               )"
   ]
  },
  {
   "cell_type": "code",
   "execution_count": 29,
   "metadata": {},
   "outputs": [
    {
     "name": "stdout",
     "output_type": "stream",
     "text": [
      " x_bos ändern der anzeigesprache und zeitzone in office 365 business\n",
      " x_bos sie können die anzeigesprache und zeitzone für alle ihre office   365-apps und -dienste gleichzeitig ändern .\n",
      " x_bos ändern der anzeigesprache und zeitzone in office 365 business\n",
      " x_bos sie können die anzeigesprache und zeitzone für alle ihre office   365-apps und -dienste gleichzeitig ändern .\n",
      " x_bos ändern der anzeigesprache und zeitzone in office 365 business\n",
      " x_bos sie können die anzeigesprache und zeitzone für alle ihre office   365-apps und -dienste gleichzeitig ändern .\n"
     ]
    }
   ],
   "source": [
    "itos = pickle.load(open(f'{token_files}itos.pkl', 'rb'))\n",
    "stoi = defaultdict(lambda:0, {v:k for k,v in enumerate(itos)})\n",
    "vocab_size = len(itos)\n",
    "pad_tok = stoi['_pad_']\n",
    "\n",
    "sentence_pairs_train = np.load(f'{token_files}office_tok_train.npy')\n",
    "sentence_pairs_dev = np.load(f'{token_files}office_tok_dev.npy')\n",
    "sentence_pairs_test = np.load(f'{token_files}office_tok_test.npy')\n",
    "\n",
    "def print_sentence(s):\n",
    "    sentence = \"\"\n",
    "    for tok in s:\n",
    "        sentence += \" \"+itos[tok]\n",
    "    print(sentence)\n",
    "\n",
    "print_sentence(sentence_pairs_train[0][0])\n",
    "print_sentence(sentence_pairs_train[0][1])\n",
    "\n",
    "print_sentence(sentence_pairs_dev[0][0])\n",
    "print_sentence(sentence_pairs_dev[0][1])\n",
    "\n",
    "print_sentence(sentence_pairs_test[0][0])\n",
    "print_sentence(sentence_pairs_test[0][1])"
   ]
  },
  {
   "cell_type": "code",
   "execution_count": 30,
   "metadata": {},
   "outputs": [
    {
     "data": {
      "text/plain": [
       "[6, 51, 7, 2618, 9, 1526, 8, 27, 125, 238]"
      ]
     },
     "execution_count": 30,
     "metadata": {},
     "output_type": "execute_result"
    }
   ],
   "source": [
    "sentence_pairs_test[0][0]"
   ]
  },
  {
   "cell_type": "code",
   "execution_count": 31,
   "metadata": {},
   "outputs": [
    {
     "data": {
      "text/plain": [
       "'der'"
      ]
     },
     "execution_count": 31,
     "metadata": {},
     "output_type": "execute_result"
    }
   ],
   "source": [
    "itos[7]"
   ]
  },
  {
   "cell_type": "markdown",
   "metadata": {},
   "source": [
    "# Check the dataloader"
   ]
  },
  {
   "cell_type": "code",
   "execution_count": 32,
   "metadata": {},
   "outputs": [
    {
     "name": "stdout",
     "output_type": "stream",
     "text": [
      "x_bos ändern der anzeigesprache und zeitzone in office 365 business \n",
      "x_bos ändern der anzeige von einem 3d-diagramm \n",
      "x_bos ändern der anzeige von einem 3d-diagramm \n",
      "x_bos ändern der anzeige von einem 3d-diagramm \n",
      "x_bos ändern der anzeige von einem 3d-diagramm \n",
      "x_bos ändern der anzeige von einem 3d-diagramm \n",
      "x_bos ändern der anzeige von einem 3d-diagramm \n",
      "x_bos ändern der anzeige von einem 3d-diagramm \n",
      "x_bos ändern der anzeige von einem 3d-diagramm \n",
      "x_bos ändern der anzeige von einem 3d-diagramm \n",
      "x_bos ändern der anzeige von einem 3d-diagramm \n",
      "x_bos ändern der anzeige von einem 3d-diagramm \n",
      "x_bos ändern der anzeige von einem 3d-diagramm \n",
      "x_bos ändern der anzeige von einem 3d-diagramm \n",
      "x_bos ändern der anzeige von einem 3d-diagramm \n",
      "x_bos ändern der anzeige von einem 3d-diagramm \n",
      "x_bos ändern der anzeige von einem 3d-diagramm \n",
      "x_bos ändern der anzeige von einem 3d-diagramm \n",
      "x_bos ändern der anzeige von einem 3d-diagramm \n",
      "x_bos ändern der arbeitszeiten und arbeitstage in outlook \n",
      "x_bos ändern der darstellung der diagrammachsen \n",
      "x_bos ändern der darstellung der diagrammachsen \n",
      "x_bos ändern der darstellung der diagrammachsen \n",
      "x_bos ändern der darstellung der diagrammachsen \n",
      "x_bos ändern der darstellung der diagrammachsen \n",
      "x_bos ändern der darstellung der diagrammachsen \n",
      "x_bos ändern der darstellung der diagrammachsen \n",
      "x_bos ändern der darstellung der diagrammachsen \n",
      "x_bos ändern der darstellung der diagrammachsen \n",
      "x_bos ändern der darstellung der diagrammachsen \n",
      "x_bos ändern der darstellung der diagrammachsen \n",
      "x_bos ändern der darstellung der diagrammachsen \n"
     ]
    }
   ],
   "source": [
    "training_data = SiameseDataLoader(sentence_pairs_train, pad_tok)\n",
    "for batch in training_data:\n",
    "    sentences = batch[0][0]\n",
    "    masks = batch[1][0]\n",
    "    for sentence, mask in zip(sentences.transpose(1,0), masks.transpose(1,0)):\n",
    "        for tok in torch.masked_select(sentence, mask):\n",
    "            print(itos[int(tok)], end=' ')\n",
    "        print(\"\")\n",
    "    break"
   ]
  },
  {
   "cell_type": "markdown",
   "metadata": {},
   "source": [
    "# Evaluate the masking and pooling code"
   ]
  },
  {
   "cell_type": "code",
   "execution_count": 33,
   "metadata": {},
   "outputs": [
    {
     "name": "stdout",
     "output_type": "stream",
     "text": [
      "tensor([[1., 1., 1., 1.],\n",
      "        [2., 2., 2., 2.]])\n",
      "tensor([2., 2., 2., 2.])\n",
      "tensor([[4., 4., 4., 4.],\n",
      "        [5., 5., 5., 5.],\n",
      "        [6., 6., 6., 6.]])\n",
      "tensor([6., 6., 6., 6.])\n",
      "tensor([[ 7.,  7.,  7.,  7.],\n",
      "        [ 8.,  8.,  8.,  8.],\n",
      "        [ 9.,  9.,  9.,  9.],\n",
      "        [10., 10., 10., 10.]])\n",
      "tensor([10., 10., 10., 10.])\n",
      "tensor([[1.5000, 1.5000, 1.5000, 1.5000],\n",
      "        [5.0000, 5.0000, 5.0000, 5.0000],\n",
      "        [8.5000, 8.5000, 8.5000, 8.5000]])\n"
     ]
    }
   ],
   "source": [
    "# sentences are in the form [sentence_length, batch_size, embedding_size]\n",
    "# masks are in the form [sentence_length, batch_size])\n",
    "sentence_length = 5\n",
    "batch_size = 3\n",
    "embedding_size = 4\n",
    "\n",
    "out = torch.zeros((batch_size, embedding_size))\n",
    "sentences = torch.tensor([ \n",
    "                    [[1,1,1,1], [4,4,4,4], [7,7,7,7]],\n",
    "                    [[2,2,2,2], [5,5,5,5], [8,8,8,8]],\n",
    "                    [[0,0,0,0], [6,6,6,6], [9,9,9,9]],\n",
    "                    [[0,0,0,0], [0,0,0,0], [10,10,10,10]],\n",
    "                    [[0,0,0,0], [0,0,0,0], [0,0,0,0]]\n",
    "                    ]).float()\n",
    "\n",
    "#sentences.shape == [5, 3, 4]\n",
    "\n",
    "masks = torch.tensor([[[1,1,1], [1,1,1], [0,1,1], [0,0,1], [0,0,0]]]).byte()\n",
    "#masks.shape == [1, 5, 3]\n",
    "\n",
    "for i, sentence, mask in zip(range(batch_size), sentences.permute((1,0,2)), masks.squeeze().permute(1,0)):\n",
    "    mask = mask.unsqueeze(1)\n",
    "    selected = torch.masked_select(sentence, mask)\n",
    "    selected = torch.reshape(selected, (-1, embedding_size))\n",
    "    print(selected)\n",
    "    max = torch.max(selected, 0)[0]\n",
    "    print(max)\n",
    "    out[i] = torch.mean(selected, 0)\n",
    "print(out)"
   ]
  },
  {
   "cell_type": "markdown",
   "metadata": {},
   "source": [
    "## Siamese network"
   ]
  },
  {
   "cell_type": "code",
   "execution_count": 34,
   "metadata": {},
   "outputs": [],
   "source": [
    "class SiameseClassifier(nn.Module):\n",
    "    \n",
    "    def __init__(self, encoder, linear):\n",
    "        super().__init__()\n",
    "        self.encoder = encoder\n",
    "        self.linear = linear\n",
    "    \n",
    "    def pool(self, x, masks, is_max):\n",
    "        #x.shape = sentence length, batch size, embedding size\n",
    "        #mask.shape = [1, sentence length, batch size]\n",
    "        \n",
    "        embedding_size = x.shape[2]\n",
    "        batch_size = x.shape[1]\n",
    "        out = torch.zeros((batch_size, embedding_size)).cuda()\n",
    "        masks = masks.squeeze()\n",
    "        #print(f'shapes: x {x.shape}, masks {masks.shape}, out {out.shape}')\n",
    "        \n",
    "        #shapes: x torch.Size([7, 32, 400]), mask torch.Size([7, 32]), out torch.Size([32, 400])\n",
    "                \n",
    "        for i, hidden, mask in zip(range(batch_size), x.permute((1,0,2)), masks.permute(1,0)):\n",
    "            mask = mask.unsqueeze(1)\n",
    "            selected = torch.masked_select(hidden, mask)\n",
    "            selected = torch.reshape(selected, (-1, embedding_size))\n",
    "            if is_max:\n",
    "                max_pool = torch.max(selected, 0)[0]\n",
    "                out[i] = max_pool\n",
    "            else:\n",
    "                mean_pool = torch.mean(selected, 0)\n",
    "                out[i] = mean_pool\n",
    "\n",
    "        return out\n",
    "\n",
    "    def pool_outputs(self, output, mask):\n",
    "        avgpool = self.pool(output, mask, False)\n",
    "        maxpool = self.pool(output, mask, True)\n",
    "        last = output[-1]\n",
    "        return torch.cat([last, maxpool, avgpool], 1)\n",
    "        \n",
    "    def forward_once(self, input, mask):\n",
    "        raw_outputs, outputs = self.encoder(input)\n",
    "        out = self.pool_outputs(outputs[-1], mask)\n",
    "        return out\n",
    "    \n",
    "    def forward(self, in1, in1_mask, in2, in2_mask):\n",
    "        u = self.forward_once(in1, in1_mask)\n",
    "        v = self.forward_once(in2, in2_mask)\n",
    "        features = torch.cat((u, v, torch.abs(u-v), u*v), 1)\n",
    "        out = self.linear(features)\n",
    "        return out \n",
    "        \n",
    "    def reset(self):\n",
    "        for c in self.children():\n",
    "            if hasattr(c, 'reset'): c.reset()\n",
    "\n",
    "class LinearClassifier(nn.Module):\n",
    "    def __init__(self, layers, dropout):\n",
    "        super().__init__()\n",
    "        self.layers = nn.ModuleList([LinearBlock(layers[i], layers[i + 1], dropout) for i in range(len(layers) - 1)])\n",
    "        \n",
    "    def forward(self, input):\n",
    "        x = input\n",
    "        for l in self.layers:\n",
    "            l_x = l(x)\n",
    "            x = F.relu(l_x)\n",
    "        return l_x\n"
   ]
  },
  {
   "cell_type": "code",
   "execution_count": 35,
   "metadata": {},
   "outputs": [],
   "source": [
    "#these are the values used for the original LM\n",
    "em_sz, nh, nl = 300, 1150, 3 #400\n",
    "bptt = 70\n",
    "max_seq = bptt * 20\n",
    "cats = 32"
   ]
  },
  {
   "cell_type": "markdown",
   "metadata": {},
   "source": [
    "## Load our pretrained model then build the Siamese network from it"
   ]
  },
  {
   "cell_type": "markdown",
   "metadata": {},
   "source": [
    "## Training loop\n",
    "This should be converted over to the fast.ai learner but I'm not sure how to do that yet."
   ]
  },
  {
   "cell_type": "code",
   "execution_count": 36,
   "metadata": {},
   "outputs": [],
   "source": [
    "log_interval = 1000\n",
    "criterion = nn.CrossEntropyLoss()\n",
    "# criterion = nn.CosineEmbeddingLoss()\n",
    "\n",
    "def evaluate(model, data_loader):\n",
    "    # Turn on evaluation mode which disables dropout.\n",
    "    model.eval()\n",
    "    \n",
    "    total_loss = 0.\n",
    "    num_correct = 0\n",
    "    total = 0 \n",
    "    \n",
    "    for x in data_loader:\n",
    "        a = x[0]\n",
    "        a_mask = x[1]\n",
    "        b = x[2]\n",
    "        b_mask = x[3]\n",
    "        l = x[4]\n",
    "        \n",
    "        if b.size(1) > 1450:\n",
    "            print('rejected:', b.size())\n",
    "            continue\n",
    "        \n",
    "        model.reset()\n",
    "        out = model(a.squeeze(), a_mask.squeeze(), b.squeeze(), b_mask.squeeze()) # squeezed the masks\n",
    "        loss = criterion(out, l.squeeze())\n",
    "        total += l.size(0)\n",
    "        total_loss += l.size(0) * loss.item()\n",
    "        num_correct += np.sum(l.data.cpu().numpy() == np.argmax(out.data.cpu().numpy(), 1))\n",
    "        \n",
    "    return (total_loss / total, num_correct / total)\n",
    "\n",
    "def train(model, data_loader, optimizer):\n",
    "    # Turn on training mode which enables dropout.\n",
    "    start_time = time.time()\n",
    "    model.train() \n",
    "    \n",
    "    total_loss = 0.\n",
    "    num_correct = 0\n",
    "    total = 0 \n",
    "        \n",
    "    for x in data_loader:\n",
    "        a = x[0]\n",
    "        a_mask = x[1]\n",
    "        b = x[2]\n",
    "        b_mask = x[3]\n",
    "        l = x[4]\n",
    "        \n",
    "        optimizer.zero_grad()\n",
    "        \n",
    "        if b.size(1) > 1450:\n",
    "            print('rejected:', b.size())\n",
    "            continue\n",
    "        \n",
    "        model.reset()\n",
    "        #torch.Size([1, 7, 32])\n",
    "        \n",
    "        out = model(a.squeeze(), a_mask.squeeze(), b.squeeze(), b_mask.squeeze()) #squeezed the masks\n",
    "        loss = criterion(out, target=l.squeeze())\n",
    "        total += l.size(0)\n",
    "        total_loss += l.size(0) * loss.item()\n",
    "        num_correct += np.sum(l.data.cpu().numpy() == np.argmax(out.data.cpu().numpy(), 1))\n",
    "        \n",
    "        loss.backward()\n",
    "        optimizer.step()\n",
    "\n",
    "        batch = data_loader.batch()\n",
    "        if batch % log_interval == 0 and batch > 0:\n",
    "            cur_loss = total_loss / total\n",
    "            elapsed = time.time() - start_time\n",
    "            batches = len(data_loader)\n",
    "            ms = elapsed * 1000 / log_interval\n",
    "            print(f'| {batch:5d}/{batches:5d} batches', end=\" \")\n",
    "            print(f'| ms/batch {ms:5.2f} | loss {cur_loss:5.4f} acc {num_correct / total}')\n",
    "            #print(f'| ms/batch {ms:5.2f} | loss {cur_loss:5.4f}')\n",
    "            total_loss = 0\n",
    "            total = 0\n",
    "            num_correct = 0\n",
    "            start_time = time.time()"
   ]
  },
  {
   "cell_type": "code",
   "execution_count": 37,
   "metadata": {},
   "outputs": [],
   "source": [
    "best_loss = 100\n",
    "def training_loop(model, epochs, optimizer, scheduler = None):\n",
    "    \n",
    "    global best_loss\n",
    "    for epoch in range(epochs):\n",
    "\n",
    "        print(f'Start epoch {epoch:3d} training with lr ', end=\"\")\n",
    "        for g in optimizer.param_groups:\n",
    "            print(g['lr'], end=\" \")\n",
    "        print(\"\")\n",
    "        \n",
    "        training_data = SiameseDataLoader(sentence_pairs_train, pad_tok)\n",
    "        training_data.shuffle()\n",
    "\n",
    "        epoch_start_time = time.time()\n",
    "        \n",
    "        train(model, training_data, optimizer)\n",
    "        if scheduler != None:\n",
    "            scheduler.step()\n",
    "\n",
    "        dev_data = SiameseDataLoader(sentence_pairs_dev, pad_tok)\n",
    "        val_loss, accuracy = evaluate(model, dev_data)\n",
    "\n",
    "        delta_t = (time.time() - epoch_start_time)\n",
    "        print('-' * 89)\n",
    "        print(f'| end of epoch {epoch:3d} | time: {delta_t:5.2f}s | valid loss {val_loss:5.2f} accuracy {accuracy} learning rates')\n",
    "        for g in optimizer.param_groups:\n",
    "            print(g['lr'])\n",
    "        print('-' * 89)\n",
    "\n",
    "        if val_loss < best_loss:\n",
    "            best_loss = val_loss\n",
    "            with open(f'./siamese_model{val_loss:0.2f}{accuracy:0.2f}.pt', 'wb') as f:\n",
    "                torch.save(siamese_model, f)"
   ]
  },
  {
   "cell_type": "code",
   "execution_count": 38,
   "metadata": {},
   "outputs": [],
   "source": [
    "from scipy.signal import butter, filtfilt\n",
    "def butter_lowpass(cutoff, fs, order=5):\n",
    "    nyq = 0.5 * fs\n",
    "    normal_cutoff = cutoff / nyq\n",
    "    b, a = butter(order, normal_cutoff, btype='low', analog=False)\n",
    "    return b, a\n",
    "\n",
    "def butter_lowpass_filtfilt(data, cutoff, fs, order=5):\n",
    "    b, a = butter_lowpass(cutoff, fs, order=order)\n",
    "    y = filtfilt(b, a, data)\n",
    "    return y\n",
    "\n",
    "def plot_loss(losses):\n",
    "    plt.semilogx(losses[:,0], losses[:,1])\n",
    "    plt.semilogx(losses[:,0], butter_lowpass_filtfilt(losses[:,1], 300, 5000))\n",
    "    plt.show()\n",
    "\n",
    "def find_lr(model, model_to_optim, data_loader):\n",
    "    losses = []\n",
    "    model.train() \n",
    "    criterion = nn.CrossEntropyLoss()\n",
    "    lr = 0.00001\n",
    "    for x in data_loader: #a, b, l\n",
    "        a = x[0]#; print(a.size(), a.squeeze().size())\n",
    "        a_m = x[1]#; print(a_m.size())\n",
    "        b = x[2]#; print(b.size(), b.squeeze().size())\n",
    "        b_m = x[3]#; print(b_m.size(), '\\n*')\n",
    "        l = x[4]\n",
    "        \n",
    "        if b.size(1) > 1450:\n",
    "            #NOTE: bug where \n",
    "#             torch.Size([1, 11, 32]) torch.Size([11, 32])\n",
    "#             torch.Size([1, 11, 32])\n",
    "#             torch.Size([1, 1568, 32]) torch.Size([1568, 32])\n",
    "#             torch.Size([1, 1568, 32]) \n",
    "#             Throws the following error:\n",
    "#                 The size of tensor a (1358) must match the size of tensor b (1568) at non-singleton dimension 0\n",
    "            print('rejected:', b.size())\n",
    "            continue\n",
    "            \n",
    "        \n",
    "        optimizer = optim.SGD(model_to_optim.parameters(), lr=lr)\n",
    "        #optimizer = optim.Adam(model_to_optim.parameters(), lr=lr)\n",
    "        optimizer.zero_grad()\n",
    "        \n",
    "        model.reset()\n",
    "#         a, b, l = torch.Tensor(a), torch.Tensor(b), torch.Tensor(l) #already Tensor objects\n",
    "        out = model(a.squeeze(), a_m.squeeze(), b.squeeze(), b_m.squeeze())\n",
    "        loss = criterion(out, l.squeeze())\n",
    "        \n",
    "        los_val = loss.item()\n",
    "        losses.append((lr, los_val))\n",
    "        if los_val > 5:\n",
    "            break\n",
    "        \n",
    "        loss.backward()\n",
    "        optimizer.step()\n",
    "        \n",
    "        lr *= 1.05\n",
    "    losses = np.array(losses)\n",
    "    #plot_loss(losses)\n",
    "    return losses"
   ]
  },
  {
   "cell_type": "code",
   "execution_count": 39,
   "metadata": {},
   "outputs": [],
   "source": [
    "WIKI_LM = torch.load(\"oa_language_model_lr001_e20_v2.pt\")\n",
    "\n",
    "dps = np.array([0.4,0.5,0.05,0.3,0.4])*0.4\n",
    "\n",
    "WIKI_encoder = MultiBatchRNN(bptt, max_seq, vocab_size, em_sz, nh, nl, pad_tok, dropouti=dps[0], wdrop=dps[2], dropoute=dps[3], dropouth=dps[4])\n",
    "\n",
    "WIKI_LM[0].state_dict()\n",
    "WIKI_encoder.load_state_dict(WIKI_LM[0].state_dict()) #SNLI_LM[0].state_dict()\n",
    "\n",
    "#2 pooled vectors, of 3 times the embedding size\n",
    "siamese_model = SiameseClassifier(WIKI_encoder, LinearClassifier(layers=[em_sz*3*4, nh, 32], dropout=0.4)).cuda()"
   ]
  },
  {
   "cell_type": "code",
   "execution_count": 17,
   "metadata": {},
   "outputs": [
    {
     "name": "stdout",
     "output_type": "stream",
     "text": [
      "rejected: torch.Size([1, 2734, 32])\n",
      "rejected: torch.Size([1, 1988, 32])\n",
      "rejected: torch.Size([1, 4200, 32])\n",
      "rejected: torch.Size([1, 4200, 32])\n",
      "rejected: torch.Size([1, 1568, 32])\n",
      "rejected: torch.Size([1, 2138, 32])\n",
      "rejected: torch.Size([1, 2138, 32])\n"
     ]
    },
    {
     "name": "stderr",
     "output_type": "stream",
     "text": [
      "/anaconda/envs/fastai/lib/python3.6/site-packages/scipy/signal/_arraytools.py:45: FutureWarning: Using a non-tuple sequence for multidimensional indexing is deprecated; use `arr[tuple(seq)]` instead of `arr[seq]`. In the future this will be interpreted as an array index, `arr[np.array(seq)]`, which will result either in an error or a different result.\n",
      "  b = a[a_slice]\n"
     ]
    },
    {
     "data": {
      "image/png": "[encoded data removed]",
      "text/plain": [
       "<Figure size 432x288 with 1 Axes>"
      ]
     },
     "metadata": {
      "needs_background": "light"
     },
     "output_type": "display_data"
    },
    {
     "name": "stdout",
     "output_type": "stream",
     "text": [
      "CPU times: user 2min 38s, sys: 51.1 s, total: 3min 29s\n",
      "Wall time: 3min 30s\n"
     ]
    }
   ],
   "source": [
    "%%time\n",
    "\n",
    "dev_data = SiameseDataLoader(sentence_pairs_dev, pad_tok)\n",
    "losses = find_lr(siamese_model, siamese_model, dev_data)\n",
    "plot_loss(np.array(losses))"
   ]
  },
  {
   "cell_type": "code",
   "execution_count": 18,
   "metadata": {
    "scrolled": false
   },
   "outputs": [
    {
     "name": "stdout",
     "output_type": "stream",
     "text": [
      "tensor([[[   1,    1,    1,    1,    1,    1,    1,    1,    1,    1,    1,\n",
      "             1,    1,    1,    6,    6,    6,    6,    6,    6,    6,    6,\n",
      "             6,    6,    1,    1,    1,    1,    1,    1,    1,    1],\n",
      "         [   1,    1,    1,    1,    1,    1,    1,    1,    1,    1,    1,\n",
      "             1,    1,    1,   52,   52,   52,   52,   52,   52,   52,   52,\n",
      "            52,   52,    1,    1,    1,    1,    1,    1,    1,    1],\n",
      "         [   6,    6,    6,    6,    6,    6,    6,    6,    6,    6,    6,\n",
      "             6,    6,    6,   11,   11,   11,   11,   11,   11,   11,   11,\n",
      "            11,   11,    1,    1,    1,    1,    1,    1,    1,    1],\n",
      "         [  52,   52,   52,   52,   52,   52,   52,   52,   52,   52,   52,\n",
      "            52,   52,   52,  100,  100,  100,  100,  100,  100,  100,  100,\n",
      "           100,  100,    6,    6,    6,    6,    6,    6,    1,    1],\n",
      "         [  11,   11,   11,   11,   11,   11,   11,   11,   11,   11,   11,\n",
      "            11,   11,   11,   12,   12,   12,   12,   12,   12,   12,   12,\n",
      "            12,   12,   52,   52,   52,   52,   52,   52,    1,    1],\n",
      "         [  51,   51,   51,   51,   51,   51,   51,   51,  100,  100,  100,\n",
      "           100,  100,  100,  456,  456,  456,  456,  456,  456,  456,  456,\n",
      "           456,  456,   11,   11,   11,   11,   11,   11,    1,    1],\n",
      "         [  12,   12,   12,   12,   12,   12,   12,   12,   21,   21,   21,\n",
      "            21,   21,   21,    9,    9,    9,    9,    9,    9,    9,    9,\n",
      "             9,    9,  100,  100,  130,  130,  130,  130,    6,    6],\n",
      "         [1053, 1053, 1053, 1053, 1053, 1053, 1053, 1053,  513,  513,  513,\n",
      "           513,  513,  513,  727,  727,  727,  727,  727,  727,  727,  727,\n",
      "           727,  727,   12,   12,   21,   21,   21,   21,   52,   52],\n",
      "         [   2,    2,    2,    2,    2,    2,    2,    2,    8,    8,    8,\n",
      "             8,    8,    8,    8,    8,    8,    8,    8,    8,    8,    8,\n",
      "             8,    8, 1241, 1241, 1304, 1304, 1304, 1304,   11,   11],\n",
      "         [2424, 2424, 2424, 2424, 2424, 2424, 2424, 2424,   27,   27,   27,\n",
      "            27,   27,   27,   74,   74,   74,   74,   74,   74,   74,   74,\n",
      "            74,   74,    8,    8,  789,  789,  789,  789,  130,  130],\n",
      "         [   9,    9,    9,    9,    9,    9,    9,    9,   14,   14,   14,\n",
      "            14,   14,   14,   14,   14,   14,   14,   14,   14,   14,   14,\n",
      "            14,   14,   39,   39,    8,    8,    8,    8,   21,   21],\n",
      "         [5039, 5039, 5039, 5039, 5039, 5039, 5039, 5039,  111,  111,  111,\n",
      "           111,  111,  111,  111,  111,  111,  111,  111,  111,  111,  111,\n",
      "           111,  111, 7602, 7602, 1580, 1580, 1580, 1580, 2146, 2146]]],\n",
      "       device='cuda:0') ****\n",
      "\n",
      "\n",
      "tensor([[[0, 0, 0, 0, 0, 0, 0, 0, 0, 0, 0, 0, 0, 0, 1, 1, 1, 1, 1, 1, 1, 1, 1,\n",
      "          1, 0, 0, 0, 0, 0, 0, 0, 0],\n",
      "         [0, 0, 0, 0, 0, 0, 0, 0, 0, 0, 0, 0, 0, 0, 1, 1, 1, 1, 1, 1, 1, 1, 1,\n",
      "          1, 0, 0, 0, 0, 0, 0, 0, 0],\n",
      "         [1, 1, 1, 1, 1, 1, 1, 1, 1, 1, 1, 1, 1, 1, 1, 1, 1, 1, 1, 1, 1, 1, 1,\n",
      "          1, 0, 0, 0, 0, 0, 0, 0, 0],\n",
      "         [1, 1, 1, 1, 1, 1, 1, 1, 1, 1, 1, 1, 1, 1, 1, 1, 1, 1, 1, 1, 1, 1, 1,\n",
      "          1, 1, 1, 1, 1, 1, 1, 0, 0],\n",
      "         [1, 1, 1, 1, 1, 1, 1, 1, 1, 1, 1, 1, 1, 1, 1, 1, 1, 1, 1, 1, 1, 1, 1,\n",
      "          1, 1, 1, 1, 1, 1, 1, 0, 0],\n",
      "         [1, 1, 1, 1, 1, 1, 1, 1, 1, 1, 1, 1, 1, 1, 1, 1, 1, 1, 1, 1, 1, 1, 1,\n",
      "          1, 1, 1, 1, 1, 1, 1, 0, 0],\n",
      "         [1, 1, 1, 1, 1, 1, 1, 1, 1, 1, 1, 1, 1, 1, 1, 1, 1, 1, 1, 1, 1, 1, 1,\n",
      "          1, 1, 1, 1, 1, 1, 1, 1, 1],\n",
      "         [1, 1, 1, 1, 1, 1, 1, 1, 1, 1, 1, 1, 1, 1, 1, 1, 1, 1, 1, 1, 1, 1, 1,\n",
      "          1, 1, 1, 1, 1, 1, 1, 1, 1],\n",
      "         [1, 1, 1, 1, 1, 1, 1, 1, 1, 1, 1, 1, 1, 1, 1, 1, 1, 1, 1, 1, 1, 1, 1,\n",
      "          1, 1, 1, 1, 1, 1, 1, 1, 1],\n",
      "         [1, 1, 1, 1, 1, 1, 1, 1, 1, 1, 1, 1, 1, 1, 1, 1, 1, 1, 1, 1, 1, 1, 1,\n",
      "          1, 1, 1, 1, 1, 1, 1, 1, 1],\n",
      "         [1, 1, 1, 1, 1, 1, 1, 1, 1, 1, 1, 1, 1, 1, 1, 1, 1, 1, 1, 1, 1, 1, 1,\n",
      "          1, 1, 1, 1, 1, 1, 1, 1, 1],\n",
      "         [1, 1, 1, 1, 1, 1, 1, 1, 1, 1, 1, 1, 1, 1, 1, 1, 1, 1, 1, 1, 1, 1, 1,\n",
      "          1, 1, 1, 1, 1, 1, 1, 1, 1]]], device='cuda:0', dtype=torch.uint8) ****\n",
      "\n",
      "\n",
      "tensor([[[    6,     6,     6,  ...,     1,     1,     1],\n",
      "         [  508,   508,   508,  ...,     1,     1,     1],\n",
      "         [    3,     3,     3,  ...,     1,     1,     1],\n",
      "         ...,\n",
      "         [  111,   111,   111,  ...,     9,   553,   553],\n",
      "         [ 6007,  6007,  6007,  ...,    77,    52,    52],\n",
      "         [    4,     4,     4,  ...,     4,     4,     4]]], device='cuda:0') ****\n",
      "\n",
      "\n",
      "tensor([[[1, 1, 1,  ..., 0, 0, 0],\n",
      "         [1, 1, 1,  ..., 0, 0, 0],\n",
      "         [1, 1, 1,  ..., 0, 0, 0],\n",
      "         ...,\n",
      "         [1, 1, 1,  ..., 1, 1, 1],\n",
      "         [1, 1, 1,  ..., 1, 1, 1],\n",
      "         [1, 1, 1,  ..., 1, 1, 1]]], device='cuda:0', dtype=torch.uint8) ****\n",
      "\n",
      "\n",
      "32 ****\n",
      "\n",
      "\n"
     ]
    }
   ],
   "source": [
    "for b in dev_data:\n",
    "    print(b[0], '****\\n\\n')\n",
    "    print(b[1], '****\\n\\n')\n",
    "    print(b[2], '****\\n\\n')\n",
    "    print(b[3], '****\\n\\n')\n",
    "    print(b[4].size(0), '****\\n\\n')\n",
    "    break"
   ]
  },
  {
   "cell_type": "code",
   "execution_count": null,
   "metadata": {},
   "outputs": [
    {
     "name": "stdout",
     "output_type": "stream",
     "text": [
      "Start epoch   0 training with lr 0.01 \n",
      "|  1000/ 2427 batches | ms/batch 115.12 | loss 1.4568 acc 0.63596875\n"
     ]
    }
   ],
   "source": [
    "for param in siamese_model.encoder.parameters():\n",
    "    param.requires_grad = False\n",
    "\n",
    "optimizer = optim.SGD(siamese_model.linear.parameters(), lr=0.01)\n",
    "training_loop(siamese_model, 1, optimizer)"
   ]
  },
  {
   "cell_type": "code",
   "execution_count": null,
   "metadata": {},
   "outputs": [],
   "source": [
    "torch.save(siamese_model, \"siamese_model_e0_lr01_v0.pt\")"
   ]
  },
  {
   "cell_type": "code",
   "execution_count": null,
   "metadata": {},
   "outputs": [],
   "source": [
    "# siamese_model = torch.load(\"./siamese_model0.500.81.pt\")"
   ]
  },
  {
   "cell_type": "code",
   "execution_count": null,
   "metadata": {},
   "outputs": [],
   "source": [
    "for param in siamese_model.encoder.parameters():\n",
    "    param.requires_grad = True\n",
    "\n",
    "for lr in [x/200+0.005 for x in range(20)]:\n",
    "    optimizer = optim.SGD(siamese_model.parameters(), lr=lr)\n",
    "    training_loop(siamese_model, 1, optimizer)"
   ]
  },
  {
   "cell_type": "code",
   "execution_count": null,
   "metadata": {},
   "outputs": [],
   "source": [
    "torch.save(siamese_model, \"siamese_model_e1_lr01_v0.pt\")"
   ]
  },
  {
   "cell_type": "code",
   "execution_count": null,
   "metadata": {},
   "outputs": [],
   "source": [
    "epochs = 10\n",
    "optimizer = optim.SGD(siamese_model.parameters(), lr=0.1)\n",
    "scheduler = optim.lr_scheduler.CosineAnnealingLR(optimizer, epochs, eta_min=0.001)\n",
    "training_loop(siamese_model, epochs, optimizer, scheduler)"
   ]
  },
  {
   "cell_type": "code",
   "execution_count": null,
   "metadata": {},
   "outputs": [],
   "source": [
    "torch.save(siamese_model, \"siamese_model_e10_lr1_v0.pt\")"
   ]
  },
  {
   "cell_type": "code",
   "execution_count": null,
   "metadata": {},
   "outputs": [],
   "source": [
    "entailed_a = []\n",
    "entailed_b = []\n",
    "contra_a = []\n",
    "contra_b = []\n",
    "netural_a = []\n",
    "netural_b = []"
   ]
  },
  {
   "cell_type": "code",
   "execution_count": null,
   "metadata": {},
   "outputs": [],
   "source": [
    "for a,b,l,_ in sentence_pairs_dev:\n",
    "    if l == 0:\n",
    "        #entailed\n",
    "        entailed_a.append(a)\n",
    "        entailed_b.append(b)\n",
    "    elif l == 1:\n",
    "        contra_a.append(a)\n",
    "        contra_b.append(b)\n",
    "    else:\n",
    "        netural_a.append(a)\n",
    "        netural_b.append(b)"
   ]
  },
  {
   "cell_type": "code",
   "execution_count": null,
   "metadata": {},
   "outputs": [],
   "source": [
    "def make_prediction_from_list(model, l):\n",
    "    \"\"\"\n",
    "    Encode a list of integers that represent a sequence of tokens.  The\n",
    "    purpose is to encode a sentence or phrase.\n",
    "\n",
    "    Parameters\n",
    "    -----------\n",
    "    model : fastai language model\n",
    "    l : list\n",
    "        list of integers, representing a sequence of tokens that you want to encode`\n",
    "\n",
    "    \"\"\"\n",
    "    arr = torch.tensor(np.expand_dims(np.array(l), -1)).cuda()\n",
    "    model.reset()  # language model is stateful, so you must reset upon each prediction\n",
    "    hidden_states = model(arr)[-1][-1] # RNN Hidden Layer output is last output, and only need the last layer\n",
    "\n",
    "    #return avg-pooling, max-pooling, and last hidden state\n",
    "    return hidden_states.mean(0), hidden_states.max(0)[0], hidden_states[-1]\n",
    "\n",
    "def get_embeddings(encoder, list_list_int):\n",
    "    \"\"\"\n",
    "    Vectorize a list of sequences List[List[int]] using a fast.ai language model.\n",
    "\n",
    "    Paramters\n",
    "    ---------\n",
    "    encoder : sentence_encoder\n",
    "    list_list_int : List[List[int]]\n",
    "        A list of sequences to encode\n",
    "\n",
    "    Returns\n",
    "    -------\n",
    "    tuple: (avg, mean, last)\n",
    "        A tuple that returns the average-pooling, max-pooling over time steps as well as the last time step.\n",
    "    \"\"\"\n",
    "    n_rows = len(list_list_int)\n",
    "    n_dim = encoder.nhid\n",
    "    avgarr = np.empty((n_rows, n_dim))\n",
    "    maxarr = np.empty((n_rows, n_dim))\n",
    "    lastarr = np.empty((n_rows, n_dim))\n",
    "\n",
    "    for i in range(len(list_list_int)):\n",
    "        avg_, max_, last_ = make_prediction_from_list(encoder, list_list_int[i])\n",
    "        avgarr[i,:] = avg_.data.cpu().numpy()\n",
    "        maxarr[i,:] = max_.data.cpu().numpy()\n",
    "        lastarr[i,:] = last_.data.cpu().numpy()\n",
    "\n",
    "    return avgarr, maxarr, lastarr\n"
   ]
  },
  {
   "cell_type": "code",
   "execution_count": null,
   "metadata": {},
   "outputs": [],
   "source": [
    "#siamese_model = torch.load('siamese_model0.500.81.pt')\n",
    "siamese_model.encoder.nhid = 400"
   ]
  },
  {
   "cell_type": "code",
   "execution_count": null,
   "metadata": {},
   "outputs": [],
   "source": [
    "entailed_a_vec = get_embeddings(siamese_model.encoder, entailed_a)\n",
    "entailed_b_vec = get_embeddings(siamese_model.encoder, entailed_b)"
   ]
  },
  {
   "cell_type": "code",
   "execution_count": null,
   "metadata": {},
   "outputs": [],
   "source": [
    "import nmslib\n",
    "\n",
    "def create_nmslib_search_index(numpy_vectors):\n",
    "    \"\"\"Create search index using nmslib.\n",
    "    Parameters\n",
    "    ==========\n",
    "    numpy_vectors : numpy.array\n",
    "        The matrix of vectors\n",
    "    Returns\n",
    "    =======\n",
    "    nmslib object that has index of numpy_vectors\n",
    "    \"\"\"\n",
    "\n",
    "    search_index = nmslib.init(method='hnsw', space='cosinesimil')\n",
    "    search_index.addDataPointBatch(numpy_vectors)\n",
    "    search_index.createIndex({'post': 2}, print_progress=True)\n",
    "    return search_index\n",
    "\n",
    "def percent_matching(query_vec, searchindex, k=10):\n",
    "    num_found = 0\n",
    "    num_total = len(query_vec)\n",
    "    for i in range(num_total):\n",
    "        query = query_vec[i]\n",
    "        idxs, dists = searchindex.knnQuery(query, k=k)\n",
    "        if i in idxs:\n",
    "            num_found += 1\n",
    "\n",
    "    return 100 * num_found/num_total\n",
    "\n",
    "def indexes_matching(query_vec, search_index, k=5):\n",
    "    results = []\n",
    "    for q in query_vec:\n",
    "        index_set = set()\n",
    "        idxs, dists = search_index.knnQuery(q, k=k)\n",
    "        results.append(idxs)\n",
    "    return results\n",
    " \n",
    "def percent_found(results):\n",
    "    num_found = 0\n",
    "    for i, result in enumerate(results):\n",
    "        if i in result:\n",
    "            num_found += 1\n",
    "    return (num_found/len(results))\n",
    "\n",
    "def decode_sentence(sentence):\n",
    "    result = \"\"\n",
    "    for word_idx in sentence: \n",
    "        result += f\"{itos[word_idx]} \"\n",
    "        \n",
    "    return result\n",
    "    \n",
    "def show_similar(query_idx, matched):\n",
    "    print(decode_sentence(entailed_a[query_idx]))\n",
    "    for idx in matched:\n",
    "        print(f\"\\t{decode_sentence(entailed_b[idx])}\")\n",
    "    print(\"\")"
   ]
  },
  {
   "cell_type": "code",
   "execution_count": null,
   "metadata": {},
   "outputs": [],
   "source": [
    "entailed_b_avg_searchindex = create_nmslib_search_index(entailed_b_vec[0])\n",
    "entailed_b_max_searchindex = create_nmslib_search_index(entailed_b_vec[1])\n",
    "entailed_b_last_searchindex = create_nmslib_search_index(entailed_b_vec[2])"
   ]
  },
  {
   "cell_type": "code",
   "execution_count": null,
   "metadata": {},
   "outputs": [],
   "source": [
    "results_avg = indexes_matching(entailed_a_vec[0], entailed_b_avg_searchindex, 3)\n",
    "results_max = indexes_matching(entailed_a_vec[1], entailed_b_max_searchindex, 3)\n",
    "results_last = indexes_matching(entailed_a_vec[2], entailed_b_last_searchindex, 3)\n",
    "\n",
    "num_found = 0\n",
    "for i in range(len(results_avg)):\n",
    "    if i in results_avg[i] or i in results_max[i] or i in results_last[i]:\n",
    "        num_found += 1\n",
    "print(num_found/len(results_avg))"
   ]
  },
  {
   "cell_type": "code",
   "execution_count": null,
   "metadata": {},
   "outputs": [],
   "source": [
    "results_combined = []\n",
    "for a,b,c in zip(results_avg, results_max, results_last):\n",
    "    results_combined.append(set(a).union(set(b).union(set(c))))"
   ]
  },
  {
   "cell_type": "code",
   "execution_count": null,
   "metadata": {},
   "outputs": [],
   "source": [
    "for i, r in enumerate(results_combined):\n",
    "    show_similar(i, r)"
   ]
  },
  {
   "cell_type": "code",
   "execution_count": null,
   "metadata": {},
   "outputs": [],
   "source": [
    "#siamese_model = torch.load('siamese_model0.500.81.pt')"
   ]
  },
  {
   "cell_type": "code",
   "execution_count": null,
   "metadata": {},
   "outputs": [],
   "source": [
    "torch.save(siamese_model.encoder.state_dict(), \"siamese_encoder_dict.pt\")"
   ]
  },
  {
   "cell_type": "code",
   "execution_count": null,
   "metadata": {},
   "outputs": [],
   "source": []
  }
 ],
 "metadata": {
  "_draft": {
   "nbviewer_url": "https://gist.github.com/0dd0df21cf404cf2bb51d0148c8b7d8b"
  },
  "gist": {
   "data": {
    "description": "fastai.text imdb example",
    "public": true
   },
   "id": "0dd0df21cf404cf2bb51d0148c8b7d8b"
  },
  "kernelspec": {
   "display_name": "py36 fastai",
   "language": "python",
   "name": "fastai"
  },
  "language_info": {
   "codemirror_mode": {
    "name": "ipython",
    "version": 3
   },
   "file_extension": ".py",
   "mimetype": "text/x-python",
   "name": "python",
   "nbconvert_exporter": "python",
   "pygments_lexer": "ipython3",
   "version": "3.6.6"
  },
  "toc": {
   "colors": {
    "hover_highlight": "#DAA520",
    "navigate_num": "#000000",
    "navigate_text": "#333333",
    "running_highlight": "#FF0000",
    "selected_highlight": "#FFD700",
    "sidebar_border": "#EEEEEE",
    "wrapper_background": "#FFFFFF"
   },
   "moveMenuLeft": true,
   "nav_menu": {
    "height": "86px",
    "width": "252px"
   },
   "navigate_menu": true,
   "number_sections": true,
   "sideBar": true,
   "threshold": 4,
   "toc_cell": false,
   "toc_section_display": "block",
   "toc_window_display": false,
   "widenNotebook": false
  }
 },
 "nbformat": 4,
 "nbformat_minor": 2
}
